{
 "cells": [
  {
   "cell_type": "markdown",
   "id": "80d2261d-955a-40fe-adef-ca5f1deb5be3",
   "metadata": {},
   "source": [
    "### Imports"
   ]
  },
  {
   "cell_type": "code",
   "execution_count": 1,
   "id": "1c3dfea4-f52e-448f-aa11-07a532115fd4",
   "metadata": {},
   "outputs": [],
   "source": [
    "import numpy as np\n",
    "import cv2\n",
    "\n",
    "from sklearn.model_selection import train_test_split\n",
    "from sklearn.preprocessing import LabelEncoder \n",
    "\n",
    "import torch\n",
    "import torch.nn as nn\n",
    "import torchvision.transforms as transforms\n",
    "from torch.utils.data import TensorDataset, DataLoader, random_split\n",
    "from torch.nn import Module\n",
    "from torch.nn import Conv2d\n",
    "from torch.nn import Linear\n",
    "from torch.nn import MaxPool2d\n",
    "from torch.nn import ReLU\n",
    "from torch.nn import LogSoftmax\n",
    "from torch import flatten\n",
    "import torch.optim as optim\n",
    "\n",
    "from PIL import Image"
   ]
  },
  {
   "cell_type": "markdown",
   "id": "16b7d818-9195-47e8-8eb3-eacf9caf0b11",
   "metadata": {},
   "source": [
    "### Loading dataset"
   ]
  },
  {
   "cell_type": "code",
   "execution_count": 2,
   "id": "093bb091-f6a8-4eda-abee-2384daaad55f",
   "metadata": {},
   "outputs": [],
   "source": [
    "X = np.load(\"../dataset/X.npy\")\n",
    "y = np.load(\"../dataset/Y.npy\")"
   ]
  },
  {
   "cell_type": "code",
   "execution_count": 3,
   "id": "ff8e5ddb-7d36-42ff-8d5e-2b2f079a9066",
   "metadata": {},
   "outputs": [
    {
     "data": {
      "text/plain": [
       "((22801, 128, 128, 3), (22801, 1))"
      ]
     },
     "execution_count": 3,
     "metadata": {},
     "output_type": "execute_result"
    }
   ],
   "source": [
    "X.shape, y.shape"
   ]
  },
  {
   "cell_type": "markdown",
   "id": "b2d568f7-755c-4bc5-9320-9aae3b9439ff",
   "metadata": {},
   "source": [
    "### Transforming dataset"
   ]
  },
  {
   "cell_type": "code",
   "execution_count": 4,
   "id": "28b5d6b3-abe8-443d-8a72-929ae5f82883",
   "metadata": {},
   "outputs": [],
   "source": [
    "image_size=32\n",
    "mean=0\n",
    "stddev=1"
   ]
  },
  {
   "cell_type": "code",
   "execution_count": 5,
   "id": "3a98d310-368a-49e3-830d-27174f8c237b",
   "metadata": {},
   "outputs": [],
   "source": [
    "# Transforming X\n",
    "X = X.astype(np.float32)\n",
    "\n",
    "transform = transforms.Compose([\n",
    "    transforms.ToPILImage(),\n",
    "    transforms.Resize((image_size, image_size)),\n",
    "    transforms.ToTensor(),\n",
    "    transforms.Normalize((mean,), (stddev,))\n",
    "])\n",
    "\n",
    "X_transformed = torch.stack([transform(image) for image in X])"
   ]
  },
  {
   "cell_type": "code",
   "execution_count": 6,
   "id": "d452bd56-11d5-465e-8022-226f2ef2268e",
   "metadata": {},
   "outputs": [],
   "source": [
    "# Transfomring y\n",
    "label_encoder = LabelEncoder()\n",
    "y_encoded = label_encoder.fit_transform(y.ravel())\n",
    "y_transformed = torch.tensor(y_encoded)"
   ]
  },
  {
   "cell_type": "code",
   "execution_count": 7,
   "id": "5ed18008-c79b-47af-bc66-f0e45ce593c0",
   "metadata": {},
   "outputs": [
    {
     "data": {
      "text/plain": [
       "(torch.Size([22801, 3, 32, 32]), torch.Size([22801]))"
      ]
     },
     "execution_count": 7,
     "metadata": {},
     "output_type": "execute_result"
    }
   ],
   "source": [
    "X_transformed.shape, y_transformed.shape"
   ]
  },
  {
   "cell_type": "markdown",
   "id": "080e26fb-ba8f-4fb8-af8e-cdb22ef99626",
   "metadata": {},
   "source": [
    "### Creating TensorDataset"
   ]
  },
  {
   "cell_type": "code",
   "execution_count": 8,
   "id": "97b7ca15-cec0-46ac-a7b1-6084e3f49dae",
   "metadata": {},
   "outputs": [],
   "source": [
    "dataset = TensorDataset(X_transformed, y_transformed)"
   ]
  },
  {
   "cell_type": "markdown",
   "id": "cdc9bfe9-8442-40c1-962f-62acce76f5dd",
   "metadata": {},
   "source": [
    "### Spliting dataset"
   ]
  },
  {
   "cell_type": "code",
   "execution_count": 9,
   "id": "dca4ac50-7145-42ac-9123-9d6d4c211894",
   "metadata": {},
   "outputs": [],
   "source": [
    "train_ratio=0.7\n",
    "valid_ratio=0.15\n",
    "test_ratio=0.15"
   ]
  },
  {
   "cell_type": "code",
   "execution_count": 10,
   "id": "4b7f968a-eb91-4b0f-b4d3-18556e365e90",
   "metadata": {},
   "outputs": [],
   "source": [
    "total_size = len(dataset)\n",
    "train_size = int(train_ratio * total_size)\n",
    "valid_size = int(valid_ratio * total_size)\n",
    "test_size = total_size - train_size - valid_size"
   ]
  },
  {
   "cell_type": "code",
   "execution_count": 11,
   "id": "f35e27c3-b55e-4ac7-bc77-d5552ec9e884",
   "metadata": {},
   "outputs": [],
   "source": [
    "train_dataset, valid_dataset, test_dataset = random_split(dataset, [train_size, valid_size, test_size])"
   ]
  },
  {
   "cell_type": "code",
   "execution_count": 12,
   "id": "b2710662-d0a3-43a4-9780-5258a386a677",
   "metadata": {},
   "outputs": [
    {
     "name": "stdout",
     "output_type": "stream",
     "text": [
      "Dataset      X Shape                        y Shape        \n",
      "------------ ------------------------------ ---------------\n",
      "Train        torch.Size([15960, 3, 32, 32]) torch.Size([15960])\n",
      "Validation   torch.Size([3420, 3, 32, 32])  torch.Size([3420])\n",
      "Test         torch.Size([3421, 3, 32, 32])  torch.Size([3421])\n"
     ]
    }
   ],
   "source": [
    "print(f\"{'Dataset':<12} {'X Shape':<30} {'y Shape':<15}\")\n",
    "print(f\"{'-'*12} {'-'*30} {'-'*15}\")\n",
    "\n",
    "print(f\"{'Train':<12} {str(train_dataset.dataset.tensors[0][train_dataset.indices].shape):<30} {str(train_dataset.dataset.tensors[1][train_dataset.indices].shape):<15}\")\n",
    "print(f\"{'Validation':<12} {str(valid_dataset.dataset.tensors[0][valid_dataset.indices].shape):<30} {str(valid_dataset.dataset.tensors[1][valid_dataset.indices].shape):<15}\")\n",
    "print(f\"{'Test':<12} {str(test_dataset.dataset.tensors[0][test_dataset.indices].shape):<30} {str(test_dataset.dataset.tensors[1][test_dataset.indices].shape):<15}\")"
   ]
  },
  {
   "cell_type": "markdown",
   "id": "7ca16f6f-eb38-4a07-82b6-cd6acd9db3d1",
   "metadata": {},
   "source": [
    "### Creating DataLoaders"
   ]
  },
  {
   "cell_type": "code",
   "execution_count": 13,
   "id": "b1e2d4f7-8bba-489c-acfd-3ada99a2d062",
   "metadata": {},
   "outputs": [],
   "source": [
    "batch_size=32\n",
    "train_shuffle=True\n",
    "valid_shuffle=False\n",
    "test_shuffle=False"
   ]
  },
  {
   "cell_type": "code",
   "execution_count": 14,
   "id": "ddb41d87-6e67-4353-b412-9d0abf004a5a",
   "metadata": {},
   "outputs": [],
   "source": [
    "train_loader = DataLoader(train_dataset, batch_size=batch_size, shuffle=train_shuffle)\n",
    "valid_loader = DataLoader(valid_dataset, batch_size=batch_size, shuffle=valid_shuffle)\n",
    "test_loader = DataLoader(test_dataset, batch_size=batch_size, shuffle=test_shuffle)"
   ]
  },
  {
   "cell_type": "markdown",
   "id": "b32ec578-9ce4-4793-b180-f4cf74b01453",
   "metadata": {},
   "source": [
    "### Model definition"
   ]
  },
  {
   "cell_type": "markdown",
   "id": "651a6264-303a-4008-9c03-6aa95e145f0f",
   "metadata": {},
   "source": [
    "##### CNN Layers Shape Calculation\n",
    "\n",
    "$$\n",
    "H_{\\text{out}} = \\left\\lfloor \\frac{H_{\\text{in}} + 2 \\times \\text{padding}[0] - \\text{dilation}[0] \\times ( \\text{kernel\\_size}[0] - 1 ) - 1}{\\text{stride}[0]} \\right\\rfloor + 1\n",
    "$$\n",
    "\n",
    "$$\n",
    "W_{\\text{out}} = \\left\\lfloor \\frac{W_{\\text{in}} + 2 \\times \\text{padding}[1] - \\text{dilation}[1] \\times ( \\text{kernel\\_size}[1] - 1 ) - 1}{\\text{stride}[1]} \\right\\rfloor + 1\n",
    "$$\n",
    "\n",
    "where:\n",
    "\n",
    "- $H_{\\text{in}}$ is the input height.\n",
    "- $W_{\\text{in}}$ is the input width.\n",
    "- $\\text{padding}[0]$ is the padding added to the input height.\n",
    "- $\\text{padding}[1]$ is the padding added to the input width.\n",
    "- $\\text{dilation}[0]$ is the dilation factor for the convolutional kernel in the height dimension.\n",
    "- $\\text{dilation}[1]$ is the dilation factor for the convolutional kernel in the width dimension.\n",
    "- $\\text{kernel\\_size}[0]$ is the height of the convolutional kernel.\n",
    "- $\\text{kernel\\_size}[1]$ is the width of the convolutional kernel.\n",
    "- $\\text{stride}[0]$ is the stride of the convolution in the height dimension.\n",
    "- $\\text{stride}[1]$ is the stride of the convolution in the width dimension."
   ]
  },
  {
   "cell_type": "code",
   "execution_count": 15,
   "id": "1fd19886-bf6c-4961-9044-6fcab2e8e417",
   "metadata": {},
   "outputs": [],
   "source": [
    "def calculate_h_out_w_out(h_in, w_in, kernel_size, out_channels, stride=(1, 1), padding=(0, 0), dilation=(1, 1)):\n",
    "    h_out = (h_in + 2 * padding[0] - dilation[0] * (kernel_size[0] - 1) - 1) // stride[0] + 1\n",
    "    w_out = (w_in + 2 * padding[1] - dilation[1] * (kernel_size[1] - 1) - 1) // stride[1] + 1\n",
    "\n",
    "    # assert\n",
    "    assert isinstance(h_out, int), \"Output height is not an integer\"\n",
    "    assert isinstance(w_out, int), \"Output width is not an integer\"\n",
    "    \n",
    "    return (h_out, w_out, out_channels)"
   ]
  },
  {
   "cell_type": "code",
   "execution_count": 16,
   "id": "32b6c268-5e7a-46f3-88a7-328f7073b99f",
   "metadata": {},
   "outputs": [],
   "source": [
    "class CNN(Module):\n",
    "    def __init__(self, in_height, in_width, in_channels, num_classes):\n",
    "        super(CNN, self).__init__()\n",
    "\n",
    "        self.in_features = (in_height, in_width, in_channels)\n",
    "        self.conv1 = Conv2d(in_channels=in_channels, out_channels=16, kernel_size=(5, 5), padding=(2, 2))\n",
    "        self.in_features = calculate_h_out_w_out(in_height, in_width, (5, 5), 16, padding=(2, 2))\n",
    "        self.relu1 = ReLU()\n",
    "        self.maxpool1 = MaxPool2d(kernel_size=(2, 2), stride=(2, 2))\n",
    "        self.in_features = calculate_h_out_w_out(self.in_features[0], self.in_features[1], (2, 2), self.in_features[2], stride=(2, 2))\n",
    "        \n",
    "        #self.conv2 = Conv2d(in_channels=16, out_channels=32, kernel_size=(5, 5))\n",
    "        #self.in_features = calculate_h_out_w_out(self.in_features[0], self.in_features[1], (5, 5), 32)\n",
    "        #self.relu2 = ReLU()\n",
    "        #self.maxpool2 = MaxPool2d(kernel_size=(2, 2), stride=(2, 2))\n",
    "        #self.in_features = calculate_h_out_w_out(self.in_features[0], self.in_features[1], (2, 2), self.in_features[2], stride=(2, 2))\n",
    "        \n",
    "        self.fc1 = Linear(in_features=self.in_features[0] * self.in_features[1] * self.in_features[2], out_features=2048)\n",
    "        self.relu3 = ReLU()\n",
    "\n",
    "        self.fc2 = Linear(in_features=2048, out_features=512)\n",
    "        self.relu4 = ReLU()\n",
    "\n",
    "        self.fc3 = Linear(in_features=512, out_features=num_classes)\n",
    "        self.logSoftmax = LogSoftmax(dim=1)\n",
    "    \n",
    "    def forward(self, x):\n",
    "        x = self.conv1(x)\n",
    "        x = self.relu1(x)\n",
    "        x = self.maxpool1(x)\n",
    "\n",
    "        #x = self.conv2(x)\n",
    "        #x = self.relu2(x)\n",
    "        #x = self.maxpool2(x)\n",
    "\n",
    "        x = flatten(x, 1)\n",
    "        \n",
    "        x = self.fc1(x)\n",
    "        x = self.relu3(x)\n",
    "\n",
    "        x = self.fc2(x)\n",
    "        x = self.relu4(x)\n",
    "\n",
    "        x = self.fc3(x)\n",
    "        x = self.logSoftmax(x)\n",
    "        return x"
   ]
  },
  {
   "cell_type": "markdown",
   "id": "e9496674-2f17-4666-8310-1fcc11cf23a7",
   "metadata": {},
   "source": [
    "### Training"
   ]
  },
  {
   "cell_type": "markdown",
   "id": "a33a3d8e-a038-4351-8c31-561f7e132b9c",
   "metadata": {},
   "source": [
    "##### Function for choosing the device "
   ]
  },
  {
   "cell_type": "code",
   "execution_count": 17,
   "id": "764492b3-f8bd-45e8-8862-e71eac6e674a",
   "metadata": {},
   "outputs": [],
   "source": [
    "def get_device():\n",
    "  return torch.device(\"cuda\" if torch.cuda.is_available() else \"cpu\")"
   ]
  },
  {
   "cell_type": "markdown",
   "id": "d0d9b813-5539-4568-8978-ba78fc5da670",
   "metadata": {},
   "source": [
    "##### Function for counting number of paramaters for model"
   ]
  },
  {
   "cell_type": "code",
   "execution_count": 18,
   "id": "87575c8b-78c6-46e7-b6d6-7579a9a6daa4",
   "metadata": {},
   "outputs": [],
   "source": [
    "def count_parameters(model):\n",
    "  total_params = sum(p.numel() for p in model.parameters())\n",
    "\n",
    "  # Iterate through the layers and print their details\n",
    "  for name, layer in model.named_children():\n",
    "        num_params = sum(p.numel() for p in layer.parameters())\n",
    "        print(f\"Layer: {name}, Parameters: {num_params}\")\n",
    "\n",
    "  return total_params"
   ]
  },
  {
   "cell_type": "markdown",
   "id": "d616935b-5d0f-41ca-b0c1-048c7955344a",
   "metadata": {},
   "source": [
    "##### Function for training"
   ]
  },
  {
   "cell_type": "code",
   "execution_count": 19,
   "id": "d398e15d-b116-4ef5-9496-3acc6646c15d",
   "metadata": {},
   "outputs": [],
   "source": [
    "def train(model, criterion, optimizer, n_epochs, train_loader, valid_loader, multiclass=False):\n",
    "    # Initialize lists for traininf and validation loss and accuracy for each epoch\n",
    "    train_losses = []\n",
    "    train_accuracies = []\n",
    "    valid_losses = []\n",
    "    valid_accuracies = []\n",
    "    \n",
    "    # Get the appropriate device\n",
    "    device = get_device()\n",
    "\n",
    "    # Iterate over each epoch\n",
    "    for epoch in range(n_epochs):\n",
    "        # >>>>>>>>>>>>>>>>>>>>>>>>>>>>>>>>>>>>>>>>>>>>>>>>>>> TRAINING <<<<<<<<<<<<<<<<<<<<<<<<<<<<<<<<<<<<<<<<<<<<<<<<<<<<<<<<<<<<\n",
    "\n",
    "        model.train()                                # Set the model to training mode\n",
    "        \n",
    "        epoch_train_batches_loss = 0.0               # Loss for the current epoch\n",
    "        epoch_train_correct_predictions = 0          # Number of correct predictions\n",
    "        epoch_train_total_predictions = 0            # Total number of instances processed\n",
    "\n",
    "        # Iterate over batches in the training data loader\n",
    "        for inputs, labels in train_loader:\n",
    "            # Move inputs and labels to the device\n",
    "            inputs, labels = inputs.to(device), labels.to(device)\n",
    "            \n",
    "            # Gradients from the previous batch are zeroed out to prevent accumulation\n",
    "            optimizer.zero_grad()\n",
    "            \n",
    "            # Compute the model output\n",
    "            outputs = model(inputs)\n",
    "            \n",
    "            # Compute the loss based on the criterion passed \n",
    "            loss = criterion(outputs.squeeze(), labels)\n",
    "            \n",
    "            # Compute the gradients\n",
    "            loss.backward()\n",
    "            \n",
    "            # Update the model parameters using the optimizer\n",
    "            optimizer.step()\n",
    "\n",
    "            # Accumulate the loss for the current batch\n",
    "            epoch_train_batches_loss += loss.item()\n",
    "\n",
    "            # Predict\n",
    "            if multiclass:\n",
    "                predicted = torch.argmax(outputs, dim=1)\n",
    "            else:\n",
    "                predicted = (outputs > 0.5).float()\n",
    "            \n",
    "            # Update the number of correct predictions\n",
    "            epoch_train_correct_predictions += (predicted.squeeze() == labels).sum().item()\n",
    "            \n",
    "            # Update the total number of instances processed\n",
    "            epoch_train_total_predictions += labels.size(0)\n",
    "\n",
    "        # Calculate the average loss for the training epoch\n",
    "        epoch_train_loss = epoch_train_batches_loss / len(train_loader)\n",
    "        \n",
    "        # Calculate the accuracy for the training epoch\n",
    "        epoch_train_accuracy = epoch_train_correct_predictions / epoch_train_total_predictions\n",
    "        \n",
    "        # Store the loss and accuracy for training\n",
    "        train_losses.append(epoch_train_loss)\n",
    "        train_accuracies.append(epoch_train_accuracy)\n",
    "\n",
    "        # >>>>>>>>>>>>>>>>>>>>>>>>>>>>>>>>>>>>>>>>>>>>>>>>>>> VALIDATION <<<<<<<<<<<<<<<<<<<<<<<<<<<<<<<<<<<<<<<<<<<<<<<<<<<<<<<<<<<\n",
    "\n",
    "        model.eval()                               # Set the model to evaluation mode\n",
    "        \n",
    "        epoch_valid_loss = 0.0                       # Loss for the current validation epoch\n",
    "        epoch_valid_correct_predictions = 0          # Number of correct predictions\n",
    "        epoch_valid_total_predictions = 0            # Total number of instances processed\n",
    "        \n",
    "        with torch.no_grad():  # Disable gradient computation for validation\n",
    "            for inputs, labels in valid_loader:\n",
    "                # Move inputs and labels to the device\n",
    "                inputs, labels = inputs.to(device), labels.to(device)\n",
    "\n",
    "                # Compute the model output\n",
    "                outputs = model(inputs)\n",
    "                \n",
    "                # Compute the loss based on the criterion passed \n",
    "                loss = criterion(outputs.squeeze(), labels)\n",
    "                \n",
    "                # Accumulate the loss for the current batch\n",
    "                epoch_valid_loss += loss.item()\n",
    "\n",
    "                # Predict\n",
    "                if multiclass:\n",
    "                    predicted = torch.argmax(outputs, dim=1)\n",
    "                else:\n",
    "                    predicted = (outputs > 0.5).float()\n",
    "                \n",
    "                # Update the number of correct predictions\n",
    "                epoch_valid_correct_predictions += (predicted.squeeze() == labels).sum().item()\n",
    "                \n",
    "                # Update the total number of instances processed\n",
    "                epoch_valid_total_predictions += labels.size(0)\n",
    "        \n",
    "        # Calculate the average loss and accuracy for the validation epoch\n",
    "        epoch_valid_loss /= len(valid_loader)\n",
    "        epoch_valid_accuracy = epoch_valid_correct_predictions / epoch_valid_total_predictions\n",
    "\n",
    "        valid_losses.append(epoch_valid_loss)\n",
    "        valid_accuracies.append(epoch_valid_accuracy)\n",
    "        \n",
    "        print(f\"Epoch [{epoch + 1}/{n_epochs}], Train Loss: {epoch_train_loss:.4f}, \"\n",
    "              f\"Train Accuracy: {epoch_train_accuracy:.4f}, \"\n",
    "              f\"Val Loss: {epoch_valid_loss:.4f}, Val Accuracy: {epoch_valid_accuracy:.4f}\")\n",
    "\n",
    "    # Return the losses and accuracies over all epochs\n",
    "    return train_losses, train_accuracies, valid_losses, valid_accuracies"
   ]
  },
  {
   "cell_type": "markdown",
   "id": "05d8c6ef-f87a-4f5e-b02b-577de1bdc8a4",
   "metadata": {},
   "source": [
    "##### Instantiate model"
   ]
  },
  {
   "cell_type": "code",
   "execution_count": 20,
   "id": "b5f0952b-9d3c-46a3-b0c3-754bcfdae070",
   "metadata": {},
   "outputs": [
    {
     "name": "stdout",
     "output_type": "stream",
     "text": [
      "32 32 3\n"
     ]
    }
   ],
   "source": [
    "image_height = image_size\n",
    "image_width = image_size\n",
    "n_channels = X.shape[3]\n",
    "print(image_height, image_width, n_channels)\n",
    "n_classes = len(np.unique(y))"
   ]
  },
  {
   "cell_type": "code",
   "execution_count": 21,
   "id": "92f5b64a-58ae-4c03-8585-4634fb7ad0f0",
   "metadata": {},
   "outputs": [
    {
     "data": {
      "text/plain": [
       "CNN(\n",
       "  (conv1): Conv2d(3, 16, kernel_size=(5, 5), stride=(1, 1), padding=(2, 2))\n",
       "  (relu1): ReLU()\n",
       "  (maxpool1): MaxPool2d(kernel_size=(2, 2), stride=(2, 2), padding=0, dilation=1, ceil_mode=False)\n",
       "  (fc1): Linear(in_features=4096, out_features=2048, bias=True)\n",
       "  (relu3): ReLU()\n",
       "  (fc2): Linear(in_features=2048, out_features=512, bias=True)\n",
       "  (relu4): ReLU()\n",
       "  (fc3): Linear(in_features=512, out_features=27, bias=True)\n",
       "  (logSoftmax): LogSoftmax(dim=1)\n",
       ")"
      ]
     },
     "execution_count": 21,
     "metadata": {},
     "output_type": "execute_result"
    }
   ],
   "source": [
    "model = CNN(in_height=image_height, in_width=image_width, in_channels=n_channels, num_classes=n_classes)\n",
    "model"
   ]
  },
  {
   "cell_type": "markdown",
   "id": "b49fcc23-bfea-4ce6-b77b-f6c6ffa3a6c3",
   "metadata": {},
   "source": [
    "##### Counting number of parameters"
   ]
  },
  {
   "cell_type": "code",
   "execution_count": 22,
   "id": "bf93f8a3-0eae-4d44-b602-da4af964d960",
   "metadata": {},
   "outputs": [
    {
     "name": "stdout",
     "output_type": "stream",
     "text": [
      "Layer: conv1, Parameters: 1216\n",
      "Layer: relu1, Parameters: 0\n",
      "Layer: maxpool1, Parameters: 0\n",
      "Layer: fc1, Parameters: 8390656\n",
      "Layer: relu3, Parameters: 0\n",
      "Layer: fc2, Parameters: 1049088\n",
      "Layer: relu4, Parameters: 0\n",
      "Layer: fc3, Parameters: 13851\n",
      "Layer: logSoftmax, Parameters: 0\n"
     ]
    },
    {
     "data": {
      "text/plain": [
       "9454811"
      ]
     },
     "execution_count": 22,
     "metadata": {},
     "output_type": "execute_result"
    }
   ],
   "source": [
    "count_parameters(model)"
   ]
  },
  {
   "cell_type": "markdown",
   "id": "267f3e75-1c57-4699-9114-0bb9e6536294",
   "metadata": {},
   "source": [
    "##### Train"
   ]
  },
  {
   "cell_type": "code",
   "execution_count": 23,
   "id": "3e249852-0334-4729-89e6-60225fdf0035",
   "metadata": {},
   "outputs": [],
   "source": [
    "n_epochs = 10\n",
    "criterion = nn.CrossEntropyLoss()\n",
    "optimizer = optim.Adam(model.parameters())"
   ]
  },
  {
   "cell_type": "code",
   "execution_count": 24,
   "id": "cd2e6a07-4206-4680-9ec4-2f3d3c7ae8c5",
   "metadata": {},
   "outputs": [
    {
     "name": "stdout",
     "output_type": "stream",
     "text": [
      "Epoch [1/10], Train Loss: 2.6756, Train Accuracy: 0.1935, Val Loss: 2.0094, Val Accuracy: 0.3626\n",
      "Epoch [2/10], Train Loss: 1.7468, Train Accuracy: 0.4459, Val Loss: 1.5354, Val Accuracy: 0.5278\n",
      "Epoch [3/10], Train Loss: 1.2380, Train Accuracy: 0.6044, Val Loss: 1.3422, Val Accuracy: 0.5795\n",
      "Epoch [4/10], Train Loss: 0.8418, Train Accuracy: 0.7274, Val Loss: 1.0982, Val Accuracy: 0.6602\n",
      "Epoch [5/10], Train Loss: 0.5534, Train Accuracy: 0.8179, Val Loss: 1.0874, Val Accuracy: 0.6801\n",
      "Epoch [6/10], Train Loss: 0.3480, Train Accuracy: 0.8885, Val Loss: 1.0822, Val Accuracy: 0.7041\n",
      "Epoch [7/10], Train Loss: 0.2111, Train Accuracy: 0.9340, Val Loss: 1.2478, Val Accuracy: 0.7023\n",
      "Epoch [8/10], Train Loss: 0.1431, Train Accuracy: 0.9537, Val Loss: 1.3460, Val Accuracy: 0.6985\n",
      "Epoch [9/10], Train Loss: 0.1134, Train Accuracy: 0.9637, Val Loss: 1.3622, Val Accuracy: 0.7208\n",
      "Epoch [10/10], Train Loss: 0.1003, Train Accuracy: 0.9690, Val Loss: 1.5677, Val Accuracy: 0.7035\n"
     ]
    }
   ],
   "source": [
    "train_losses, train_accuracies, valid_losses, valid_accuracies = train(model, criterion, optimizer, n_epochs, train_loader, valid_loader, True)"
   ]
  },
  {
   "cell_type": "markdown",
   "id": "077a083a-2aa6-46cf-a59b-fe49e2ca5d52",
   "metadata": {},
   "source": [
    "### Ploting results of the training"
   ]
  },
  {
   "cell_type": "code",
   "execution_count": 37,
   "id": "db922222-5d8e-4a11-891e-47431d6c5c3b",
   "metadata": {},
   "outputs": [
    {
     "data": {
      "image/png": "[encoded data removed]",
      "text/plain": [
       "<Figure size 1000x600 with 2 Axes>"
      ]
     },
     "metadata": {},
     "output_type": "display_data"
    }
   ],
   "source": [
    "def plot_training_curves(train_losses, train_accuracies, valid_losses, valid_accuracies):\n",
    "    FIGSIZE=(10, 6)\n",
    "    DPI=100\n",
    "    ALPHA=0.8\n",
    "    \n",
    "    epochs = range(1, len(train_losses) + 1)\n",
    "\n",
    "    plt.figure(figsize=FIGSIZE, dpi=DPI)\n",
    "    \n",
    "    plt.subplot(1, 2, 1)\n",
    "    plt.plot(epochs, train_losses, 'bo-', label='Training Loss')\n",
    "    plt.plot(epochs, valid_losses, 'ro-', label='Validation Loss')\n",
    "    plt.title('Loss vs. Epochs')\n",
    "    plt.xlabel('Epochs')\n",
    "    plt.ylabel('Loss')\n",
    "    plt.legend()\n",
    "    plt.grid('on', alpha=ALPHA)\n",
    "    \n",
    "    plt.subplot(1, 2, 2)\n",
    "    plt.plot(epochs, train_accuracies, 'bo-', label='Training Accuracy')\n",
    "    plt.plot(epochs, valid_accuracies, 'ro-', label='Validation Accuracy')\n",
    "    plt.title('Accuracy vs. Epochs')\n",
    "    plt.xlabel('Epochs')\n",
    "    plt.ylabel('Accuracy')\n",
    "    plt.legend()\n",
    "    plt.grid('on', alpha=ALPHA)\n",
    "    \n",
    "    plt.tight_layout()\n",
    "    plt.show()\n",
    "\n",
    "plot_training_curves(train_losses, train_accuracies, valid_losses, valid_accuracies)"
   ]
  },
  {
   "cell_type": "code",
   "execution_count": null,
   "id": "4ebe6715-5bcb-4475-ba6f-709e6f03520d",
   "metadata": {},
   "outputs": [],
   "source": []
  }
 ],
 "metadata": {
  "kernelspec": {
   "display_name": "Python 3 (ipykernel)",
   "language": "python",
   "name": "python3"
  },
  "language_info": {
   "codemirror_mode": {
    "name": "ipython",
    "version": 3
   },
   "file_extension": ".py",
   "mimetype": "text/x-python",
   "name": "python",
   "nbconvert_exporter": "python",
   "pygments_lexer": "ipython3",
   "version": "3.10.11"
  }
 },
 "nbformat": 4,
 "nbformat_minor": 5
}
